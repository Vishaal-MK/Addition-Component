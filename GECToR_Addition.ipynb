{
  "nbformat": 4,
  "nbformat_minor": 0,
  "metadata": {
    "colab": {
      "name": "GECToR Addition.ipynb",
      "provenance": []
    },
    "kernelspec": {
      "name": "python3",
      "display_name": "Python 3"
    }
  },
  "cells": [
    {
      "cell_type": "code",
      "metadata": {
        "id": "iUFiW7r61My6"
      },
      "source": [
        ""
      ],
      "execution_count": null,
      "outputs": []
    },
    {
      "cell_type": "code",
      "metadata": {
        "colab": {
          "base_uri": "https://localhost:8080/"
        },
        "id": "SjatAt-GQstZ",
        "outputId": "de7373ca-4ca0-46ce-f0fc-20f07e10dabd"
      },
      "source": [
        "!wget https://grammarly-nlp-data-public.s3.amazonaws.com/gector/xlnet_0_gector.th"
      ],
      "execution_count": null,
      "outputs": [
        {
          "output_type": "stream",
          "text": [
            "--2021-01-29 16:05:31--  https://grammarly-nlp-data-public.s3.amazonaws.com/gector/xlnet_0_gector.th\n",
            "Resolving grammarly-nlp-data-public.s3.amazonaws.com (grammarly-nlp-data-public.s3.amazonaws.com)... 52.216.249.44\n",
            "Connecting to grammarly-nlp-data-public.s3.amazonaws.com (grammarly-nlp-data-public.s3.amazonaws.com)|52.216.249.44|:443... connected.\n",
            "HTTP request sent, awaiting response... 200 OK\n",
            "Length: 482329108 (460M) [application/x-www-form-urlencoded]\n",
            "Saving to: ‘xlnet_0_gector.th’\n",
            "\n",
            "xlnet_0_gector.th   100%[===================>] 459.98M  44.3MB/s    in 11s     \n",
            "\n",
            "2021-01-29 16:05:43 (41.9 MB/s) - ‘xlnet_0_gector.th’ saved [482329108/482329108]\n",
            "\n"
          ],
          "name": "stdout"
        }
      ]
    },
    {
      "cell_type": "code",
      "metadata": {
        "colab": {
          "base_uri": "https://localhost:8080/"
        },
        "id": "D98IZgtIRLEG",
        "outputId": "de5a0fdd-d4b2-45be-84b3-fd879097e90f"
      },
      "source": [
        "!git clone https://github.com/grammarly/gector"
      ],
      "execution_count": null,
      "outputs": [
        {
          "output_type": "stream",
          "text": [
            "Cloning into 'gector'...\n",
            "remote: Enumerating objects: 79, done.\u001b[K\n",
            "remote: Total 79 (delta 0), reused 0 (delta 0), pack-reused 79\u001b[K\n",
            "Unpacking objects: 100% (79/79), done.\n"
          ],
          "name": "stdout"
        }
      ]
    },
    {
      "cell_type": "code",
      "metadata": {
        "id": "I8d8woZqRW4i"
      },
      "source": [
        "%%capture\r\n",
        "!pip install -r /content/gector/requirements.txt"
      ],
      "execution_count": null,
      "outputs": []
    },
    {
      "cell_type": "code",
      "metadata": {
        "colab": {
          "base_uri": "https://localhost:8080/",
          "height": 575
        },
        "id": "w7CS_3Wnk80Q",
        "outputId": "53ccd050-8ced-43d4-d281-6b95ea75362f"
      },
      "source": [
        "!pip install -U transformers"
      ],
      "execution_count": null,
      "outputs": [
        {
          "output_type": "stream",
          "text": [
            "Collecting transformers\n",
            "  Using cached https://files.pythonhosted.org/packages/88/b1/41130a228dd656a1a31ba281598a968320283f48d42782845f6ba567f00b/transformers-4.2.2-py3-none-any.whl\n",
            "Requirement already satisfied, skipping upgrade: packaging in /usr/local/lib/python3.6/dist-packages (from transformers) (20.8)\n",
            "Requirement already satisfied, skipping upgrade: tokenizers==0.9.4 in /usr/local/lib/python3.6/dist-packages (from transformers) (0.9.4)\n",
            "Requirement already satisfied, skipping upgrade: regex!=2019.12.17 in /usr/local/lib/python3.6/dist-packages (from transformers) (2019.12.20)\n",
            "Requirement already satisfied, skipping upgrade: tqdm>=4.27 in /usr/local/lib/python3.6/dist-packages (from transformers) (4.41.1)\n",
            "Requirement already satisfied, skipping upgrade: importlib-metadata; python_version < \"3.8\" in /usr/local/lib/python3.6/dist-packages (from transformers) (3.4.0)\n",
            "Requirement already satisfied, skipping upgrade: dataclasses; python_version < \"3.7\" in /usr/local/lib/python3.6/dist-packages (from transformers) (0.8)\n",
            "Requirement already satisfied, skipping upgrade: numpy in /usr/local/lib/python3.6/dist-packages (from transformers) (1.19.5)\n",
            "Requirement already satisfied, skipping upgrade: filelock in /usr/local/lib/python3.6/dist-packages (from transformers) (3.0.12)\n",
            "Requirement already satisfied, skipping upgrade: requests in /usr/local/lib/python3.6/dist-packages (from transformers) (2.23.0)\n",
            "Requirement already satisfied, skipping upgrade: sacremoses in /usr/local/lib/python3.6/dist-packages (from transformers) (0.0.43)\n",
            "Requirement already satisfied, skipping upgrade: pyparsing>=2.0.2 in /usr/local/lib/python3.6/dist-packages (from packaging->transformers) (2.4.7)\n",
            "Requirement already satisfied, skipping upgrade: typing-extensions>=3.6.4; python_version < \"3.8\" in /usr/local/lib/python3.6/dist-packages (from importlib-metadata; python_version < \"3.8\"->transformers) (3.7.4.3)\n",
            "Requirement already satisfied, skipping upgrade: zipp>=0.5 in /usr/local/lib/python3.6/dist-packages (from importlib-metadata; python_version < \"3.8\"->transformers) (3.4.0)\n",
            "Requirement already satisfied, skipping upgrade: certifi>=2017.4.17 in /usr/local/lib/python3.6/dist-packages (from requests->transformers) (2020.12.5)\n",
            "Requirement already satisfied, skipping upgrade: idna<3,>=2.5 in /usr/local/lib/python3.6/dist-packages (from requests->transformers) (2.10)\n",
            "Requirement already satisfied, skipping upgrade: chardet<4,>=3.0.2 in /usr/local/lib/python3.6/dist-packages (from requests->transformers) (3.0.4)\n",
            "Requirement already satisfied, skipping upgrade: urllib3!=1.25.0,!=1.25.1,<1.26,>=1.21.1 in /usr/local/lib/python3.6/dist-packages (from requests->transformers) (1.24.3)\n",
            "Requirement already satisfied, skipping upgrade: click in /usr/local/lib/python3.6/dist-packages (from sacremoses->transformers) (7.1.2)\n",
            "Requirement already satisfied, skipping upgrade: six in /usr/local/lib/python3.6/dist-packages (from sacremoses->transformers) (1.15.0)\n",
            "Requirement already satisfied, skipping upgrade: joblib in /usr/local/lib/python3.6/dist-packages (from sacremoses->transformers) (1.0.0)\n",
            "Installing collected packages: transformers\n",
            "  Found existing installation: transformers 2.2.2\n",
            "    Uninstalling transformers-2.2.2:\n",
            "      Successfully uninstalled transformers-2.2.2\n",
            "Successfully installed transformers-4.2.2\n"
          ],
          "name": "stdout"
        },
        {
          "output_type": "display_data",
          "data": {
            "application/vnd.colab-display-data+json": {
              "pip_warning": {
                "packages": [
                  "transformers"
                ]
              }
            }
          },
          "metadata": {
            "tags": []
          }
        }
      ]
    },
    {
      "cell_type": "code",
      "metadata": {
        "colab": {
          "base_uri": "https://localhost:8080/"
        },
        "id": "aMaNfvgQRe-a",
        "outputId": "63ce17ee-bc0f-4b94-8fd1-73bd7f752094"
      },
      "source": [
        "%cd /content/gector"
      ],
      "execution_count": null,
      "outputs": [
        {
          "output_type": "stream",
          "text": [
            "/content/gector\n"
          ],
          "name": "stdout"
        }
      ]
    },
    {
      "cell_type": "code",
      "metadata": {
        "id": "lZtXhzSiTnFV"
      },
      "source": [
        "from transformers import AutoModelForMaskedLM, AutoTokenizer\r\n",
        "\r\n",
        "from predict import predict_for_file\r\n",
        "from gector.gec_model import GecBERTModel\r\n",
        "import importlib\r\n",
        "\r\n",
        "import torch"
      ],
      "execution_count": null,
      "outputs": []
    },
    {
      "cell_type": "code",
      "metadata": {
        "colab": {
          "base_uri": "https://localhost:8080/",
          "height": 314,
          "referenced_widgets": [
            "1d916784646f4869a6854aa616b2ab3c",
            "d5ecf4efd5e644969661a7580342ef1b",
            "399b5c74a2b44289b62f5c088d6d176f",
            "10bdbc6501524fd6a406090913333b9c",
            "0b115ce569614e69aaffb2d0f83793c1",
            "f9e8ec3ec2ec4797ad668dda18547fd0",
            "057cdaeda1d842048d2c5a7418eea04f",
            "1b306e9129894f309b688be11ffe912d",
            "769410d4ea574f0aa8c2ec307e43ba37",
            "fccc24d5b46d44b7ba008f3e09b9dd51",
            "cecf1255dbbb48be95f52be9d8fd0d72",
            "ed4891d7b4274166a2f7aa691a8faf19",
            "0ac1339b99d04c0cb5e5079d03bd1385",
            "3d3941a041f143fe8f5c371a532bc144",
            "9ce5498d543b4028bf9bd49bd9bc4466",
            "b75345769f3b4499ac401276e54acd59",
            "780a6e5b355f46d8b4f49e7ae50bcb00",
            "27c8e4dd203946629589735bb01e7288",
            "d683f626af8b42e8a860f49975ebc9cb",
            "4f49f15b28c3422e82962024ea0ed44e",
            "1d40bc45884846bc993fa88d54dd753d",
            "7fbe6cd660d242fca4ad0eaf3dd52649",
            "17caafbc2dbd48559f6fee5835e450e8",
            "996ad6e53a43414495fe803e9916269b",
            "bc0f37c2d6634569b177fb9b69a7d400",
            "ad4eeba2c15f459990f29a7ad7e15471",
            "6944e070690747c0847b4c3621a8825f",
            "3945fe7d4fc740b2bf115fc26ce228ed",
            "7e255d06585c40719e91fb9cbf20fdc1",
            "7e8c74b7fad241889e17311c901c0ed3",
            "225a0383756745e8a9ab5fee25990325",
            "5ae1d8c60c2249ad99a83f9d3619f187",
            "3d42fd04fbfe41338935e475ae072836",
            "cf2c1db804744344b2849effad1c105b",
            "9d4eb23c2cd44d0abd78147fed0e0f32",
            "10571b0dc7b24fe18eb98a162d8fefe7",
            "ea1a887fdc4f460b9a4a44468c98b427",
            "7669365d0ecf43e487aa2c50e265aabf",
            "e651dde1822d4186af49af7cedb4c115",
            "647f0ba13e1f4e378cc66b55543c9976"
          ]
        },
        "id": "FuQZ4Z7HvyvR",
        "outputId": "6247e0dd-6f11-41d0-afff-4fc4d28f595c"
      },
      "source": [
        "rtokenizer = AutoTokenizer.from_pretrained('roberta-large')\r\n",
        "rmodel = AutoModelForMaskedLM.from_pretrained('roberta-large')"
      ],
      "execution_count": null,
      "outputs": [
        {
          "output_type": "display_data",
          "data": {
            "application/vnd.jupyter.widget-view+json": {
              "model_id": "1d916784646f4869a6854aa616b2ab3c",
              "version_minor": 0,
              "version_major": 2
            },
            "text/plain": [
              "HBox(children=(FloatProgress(value=0.0, description='Downloading', max=482.0, style=ProgressStyle(description_…"
            ]
          },
          "metadata": {
            "tags": []
          }
        },
        {
          "output_type": "stream",
          "text": [
            "\n"
          ],
          "name": "stdout"
        },
        {
          "output_type": "display_data",
          "data": {
            "application/vnd.jupyter.widget-view+json": {
              "model_id": "769410d4ea574f0aa8c2ec307e43ba37",
              "version_minor": 0,
              "version_major": 2
            },
            "text/plain": [
              "HBox(children=(FloatProgress(value=0.0, description='Downloading', max=898823.0, style=ProgressStyle(descripti…"
            ]
          },
          "metadata": {
            "tags": []
          }
        },
        {
          "output_type": "stream",
          "text": [
            "\n"
          ],
          "name": "stdout"
        },
        {
          "output_type": "display_data",
          "data": {
            "application/vnd.jupyter.widget-view+json": {
              "model_id": "780a6e5b355f46d8b4f49e7ae50bcb00",
              "version_minor": 0,
              "version_major": 2
            },
            "text/plain": [
              "HBox(children=(FloatProgress(value=0.0, description='Downloading', max=456318.0, style=ProgressStyle(descripti…"
            ]
          },
          "metadata": {
            "tags": []
          }
        },
        {
          "output_type": "stream",
          "text": [
            "\n"
          ],
          "name": "stdout"
        },
        {
          "output_type": "display_data",
          "data": {
            "application/vnd.jupyter.widget-view+json": {
              "model_id": "bc0f37c2d6634569b177fb9b69a7d400",
              "version_minor": 0,
              "version_major": 2
            },
            "text/plain": [
              "HBox(children=(FloatProgress(value=0.0, description='Downloading', max=1355863.0, style=ProgressStyle(descript…"
            ]
          },
          "metadata": {
            "tags": []
          }
        },
        {
          "output_type": "stream",
          "text": [
            "\n"
          ],
          "name": "stdout"
        },
        {
          "output_type": "display_data",
          "data": {
            "application/vnd.jupyter.widget-view+json": {
              "model_id": "3d42fd04fbfe41338935e475ae072836",
              "version_minor": 0,
              "version_major": 2
            },
            "text/plain": [
              "HBox(children=(FloatProgress(value=0.0, description='Downloading', max=1425941629.0, style=ProgressStyle(descr…"
            ]
          },
          "metadata": {
            "tags": []
          }
        },
        {
          "output_type": "stream",
          "text": [
            "\n"
          ],
          "name": "stdout"
        },
        {
          "output_type": "stream",
          "text": [
            "Some weights of RobertaForMaskedLM were not initialized from the model checkpoint at roberta-large and are newly initialized: ['lm_head.decoder.bias']\n",
            "You should probably TRAIN this model on a down-stream task to be able to use it for predictions and inference.\n"
          ],
          "name": "stderr"
        }
      ]
    },
    {
      "cell_type": "code",
      "metadata": {
        "id": "Hk0h4SJWT5j2",
        "colab": {
          "base_uri": "https://localhost:8080/",
          "height": 212,
          "referenced_widgets": [
            "e6ad5dcfefa546649834eca3c73ce750",
            "6d21cf2bfe954fdc8bf2f828a0904c5f",
            "2dcf7e5359524ff693dd32b3f27d1608",
            "5f6982b7e5194cf7885c1f1216940bca",
            "4dc8af3359af48488b97ece328ab9929",
            "a64af238241b47f38065f84ad63ef3a5",
            "2582fdb315994b679f305fed6334f068",
            "0ea67925a6f64aa4bdeed8d7def44fc2",
            "64f50bb58d044487840c4b43fd106895",
            "ef836cf54bed4748a94d0788a375bf8d",
            "df4f8ad7922846aba9917b1210399bf4",
            "82ce3941fe734df8b2abd856ae9feb79",
            "2a81282aba544ef39e77e311baddcbc9",
            "c0c0147fc31d42fe90dace168cdd636b",
            "533dd11e88594b03817168df81f86ed5",
            "26d83c14fa814823a9c32d3868c6c233",
            "f7d2dd19d17a496aa83c656b38734f7e",
            "1aa90a68aa26426fb46bf9b2e1ad74d3",
            "7881f9e7da714b17b172c3af3408f651",
            "fa04cdaf9b9b46769060ab659b5a6c45",
            "adb3c9d15ae84ae19f266b142e88f619",
            "d4cf58334cc74ee08407f98efe083842",
            "dc9ae8e91f614e6bb34035631d2d7564",
            "72654557bed8467dbb40f9cb51e124c3",
            "43f33802590a4b4fb4b63c14af650e27",
            "161e08e73eb1470c88a986cbb9483e82",
            "c9721f417eae4cfe969ef645923792d8",
            "9f97f8c7fe834b52b1a5de5176ff55f8",
            "6168f00904e141d9a9c76adca383bb25",
            "c80f43750ddc458882dfeb026f28700c",
            "23aecd1eff3d40fcb3f2fd6c3907bc02",
            "f5f139df4bae4453a94de4ece8ba730d"
          ]
        },
        "outputId": "3e343b98-e768-4119-dca7-c41babebb76d"
      },
      "source": [
        "model = GecBERTModel(vocab_path='data/output_vocabulary', model_paths=['/content/xlnet_0_gector.th'], model_name='xlnet', special_tokens_fix=0)"
      ],
      "execution_count": null,
      "outputs": [
        {
          "output_type": "display_data",
          "data": {
            "application/vnd.jupyter.widget-view+json": {
              "model_id": "e6ad5dcfefa546649834eca3c73ce750",
              "version_minor": 0,
              "version_major": 2
            },
            "text/plain": [
              "HBox(children=(FloatProgress(value=0.0, description='Downloading', max=760.0, style=ProgressStyle(description_…"
            ]
          },
          "metadata": {
            "tags": []
          }
        },
        {
          "output_type": "stream",
          "text": [
            "\n"
          ],
          "name": "stdout"
        },
        {
          "output_type": "display_data",
          "data": {
            "application/vnd.jupyter.widget-view+json": {
              "model_id": "64f50bb58d044487840c4b43fd106895",
              "version_minor": 0,
              "version_major": 2
            },
            "text/plain": [
              "HBox(children=(FloatProgress(value=0.0, description='Downloading', max=798011.0, style=ProgressStyle(descripti…"
            ]
          },
          "metadata": {
            "tags": []
          }
        },
        {
          "output_type": "stream",
          "text": [
            "\n"
          ],
          "name": "stdout"
        },
        {
          "output_type": "display_data",
          "data": {
            "application/vnd.jupyter.widget-view+json": {
              "model_id": "f7d2dd19d17a496aa83c656b38734f7e",
              "version_minor": 0,
              "version_major": 2
            },
            "text/plain": [
              "HBox(children=(FloatProgress(value=0.0, description='Downloading', max=1382015.0, style=ProgressStyle(descript…"
            ]
          },
          "metadata": {
            "tags": []
          }
        },
        {
          "output_type": "stream",
          "text": [
            "\n"
          ],
          "name": "stdout"
        },
        {
          "output_type": "display_data",
          "data": {
            "application/vnd.jupyter.widget-view+json": {
              "model_id": "43f33802590a4b4fb4b63c14af650e27",
              "version_minor": 0,
              "version_major": 2
            },
            "text/plain": [
              "HBox(children=(FloatProgress(value=0.0, description='Downloading', max=467042463.0, style=ProgressStyle(descri…"
            ]
          },
          "metadata": {
            "tags": []
          }
        },
        {
          "output_type": "stream",
          "text": [
            "\n"
          ],
          "name": "stdout"
        }
      ]
    },
    {
      "cell_type": "code",
      "metadata": {
        "id": "njQNJfF9wLE_"
      },
      "source": [
        "def get_suggestions(text, no_suggestions=3):\r\n",
        "  model_input = rtokenizer.encode(text, return_tensors='pt')\r\n",
        "  mask_token_index = torch.where(model_input == rtokenizer.mask_token_id)[1]\r\n",
        "\r\n",
        "  token_logits = rmodel(model_input)[0]\r\n",
        "  mask_token_logits = token_logits[0, mask_token_index, :]\r\n",
        "\r\n",
        "  top_tokens = torch.topk(mask_token_logits, no_suggestions, dim=1).indices[0].tolist()\r\n",
        "  return [text.replace(rtokenizer.mask_token, rtokenizer.decode([token])) for token in top_tokens]"
      ],
      "execution_count": null,
      "outputs": []
    },
    {
      "cell_type": "code",
      "metadata": {
        "id": "e8kisyATGXb1"
      },
      "source": [
        "def stringify(words):\r\n",
        "  out = \"\"\r\n",
        "  for word in words:\r\n",
        "    out += word + \" \"\r\n",
        "  return out"
      ],
      "execution_count": null,
      "outputs": []
    },
    {
      "cell_type": "code",
      "metadata": {
        "id": "5ht77WciY_if"
      },
      "source": [
        "def insert(words, index, ins=rtokenizer.mask_token):\r\n",
        "  return words[:index] + [ins] + words[index:]"
      ],
      "execution_count": null,
      "outputs": []
    },
    {
      "cell_type": "code",
      "metadata": {
        "id": "OXAmUgI16_7v"
      },
      "source": [
        "def score_sentences(sentence):\r\n",
        "  words = sentence.split()\r\n",
        "  _, _, score = model.handle_batch([words])\r\n",
        "  return score[0]"
      ],
      "execution_count": null,
      "outputs": []
    },
    {
      "cell_type": "code",
      "metadata": {
        "id": "0JP7snYbBVo4"
      },
      "source": [
        "def score_words(sentence):\r\n",
        "  words = sentence.split()\r\n",
        "  scores, _, _ = model.handle_batch([words])\r\n",
        "  scores[0].pop(0)\r\n",
        "  return scores[0]"
      ],
      "execution_count": null,
      "outputs": []
    },
    {
      "cell_type": "code",
      "metadata": {
        "id": "iA7htvLjC9st"
      },
      "source": [
        "def get_bad_indices(sentence):\r\n",
        "  scores = score_words(sentence)\r\n",
        "  copy = scores.copy()\r\n",
        "  scores.sort()\r\n",
        "  lowest = scores[0: int(len(scores) * .20)]\r\n",
        "  if len(lowest) < 3:\r\n",
        "    lowest = scores[0:3]\r\n",
        "  bad_indices = []\r\n",
        "  for low in lowest:\r\n",
        "    bad_indices.append(copy.index(low))\r\n",
        "  \r\n",
        "  return bad_indices"
      ],
      "execution_count": null,
      "outputs": []
    },
    {
      "cell_type": "code",
      "metadata": {
        "id": "OPSa8xfhF1qS"
      },
      "source": [
        "def check_addition(sentence, bad_indices):\r\n",
        "  corrections = []\r\n",
        "  for index in bad_indices:\r\n",
        "    words = sentence.split()\r\n",
        "    words.pop(index)\r\n",
        "    corrected = stringify(words)\r\n",
        "    corrections.append((corrected, score_sentences(corrected)))\r\n",
        "  return corrections"
      ],
      "execution_count": null,
      "outputs": []
    },
    {
      "cell_type": "code",
      "metadata": {
        "id": "VYv_EyniV3NY"
      },
      "source": [
        "def check_substitution(sentence, bad_indices, no_suggestions=1):\r\n",
        "  corrections = []\r\n",
        "  for index in bad_indices:\r\n",
        "    words = sentence.split()\r\n",
        "    words[index] = rtokenizer.mask_token\r\n",
        "    string = stringify(words)\r\n",
        "    for correction in get_suggestions(string, no_suggestions):\r\n",
        "      corrections.append((correction, score_sentences(correction)))\r\n",
        "  return corrections"
      ],
      "execution_count": null,
      "outputs": []
    },
    {
      "cell_type": "code",
      "metadata": {
        "id": "UWJJZnpCYyE7"
      },
      "source": [
        "def check_deletion(sentence, bad_indices, no_suggestions=1):\r\n",
        "  corrections = []\r\n",
        "  for index in bad_indices:\r\n",
        "    words = sentence.split()\r\n",
        "    wordsl = insert(words, index)\r\n",
        "    wordsr = insert(words, index+1)\r\n",
        "    stringl = stringify(wordsl)\r\n",
        "    stringr = stringify(wordsr)\r\n",
        "    for correction in get_suggestions(stringr, no_suggestions):\r\n",
        "      corrections.append((correction, score_sentences(correction)))\r\n",
        "    for correction in get_suggestions(stringl, no_suggestions):\r\n",
        "      corrections.append((correction, score_sentences(correction)))\r\n",
        "  return corrections"
      ],
      "execution_count": null,
      "outputs": []
    },
    {
      "cell_type": "code",
      "metadata": {
        "id": "BaiWPodJGigK"
      },
      "source": [
        "def driver(sentences):\r\n",
        "  for sentence in sentences:\r\n",
        "    bad_indices = get_bad_indices(sentence)\r\n",
        "    print(f'Original sentence: {sentence}')\r\n",
        "    print(f'Original score: {score_sentences(sentence)}')\r\n",
        "    print('Addition:')\r\n",
        "    print(check_addition(sentence, bad_indices))\r\n",
        "    print('Substitution:')\r\n",
        "    print(check_substitution(sentence, bad_indices))\r\n",
        "    print('Deletion:')\r\n",
        "    print(check_deletion(sentence, bad_indices))\r\n",
        "    print('-' * 800)"
      ],
      "execution_count": null,
      "outputs": []
    },
    {
      "cell_type": "code",
      "metadata": {
        "id": "_ICcFT__Vm6J"
      },
      "source": [
        "def best(corrections):\r\n",
        "  best_score = 1\r\n",
        "  best_correction = ''\r\n",
        "  for correction, score in corrections:\r\n",
        "    if score <= best_score:\r\n",
        "      best_correction = correction\r\n",
        "      best_score = score\r\n",
        "  return best_correction, best_score"
      ],
      "execution_count": null,
      "outputs": []
    },
    {
      "cell_type": "code",
      "metadata": {
        "id": "S7ZpoM1yrDG5"
      },
      "source": [
        "def get_best(sentences):\r\n",
        "  for sentence in sentences:\r\n",
        "    bad_indices = get_bad_indices(sentence)\r\n",
        "    out = []\r\n",
        "    print(f'Original sentence: {sentence}, {score_sentences(sentence)}')\r\n",
        "    out.append(check_addition(sentence, bad_indices))\r\n",
        "    out.append(check_deletion(sentence, bad_indices))\r\n",
        "    out.append(check_substitution(sentence, bad_indices))\r\n",
        "\r\n",
        "  return best([best(out[0]), best(out[1]), best(out[2])])"
      ],
      "execution_count": null,
      "outputs": []
    },
    {
      "cell_type": "code",
      "metadata": {
        "id": "BrNHL_UA9mNV"
      },
      "source": [
        "def iterate(sentence, iterations=5):\r\n",
        "  curr = sentence\r\n",
        "  for _ in range(iterations):\r\n",
        "    curr = get_best([curr])[0]\r\n",
        "  return curr"
      ],
      "execution_count": null,
      "outputs": []
    },
    {
      "cell_type": "code",
      "metadata": {
        "colab": {
          "base_uri": "https://localhost:8080/"
        },
        "id": "veXMJ1IT9fUc",
        "outputId": "722f18a8-e795-4af9-c548-d06b57b063b5"
      },
      "source": [
        "get_best([\"Because of diagonal elements are zeros , the components are null .\"])"
      ],
      "execution_count": null,
      "outputs": [
        {
          "output_type": "stream",
          "text": [
            "Original sentence: Because of diagonal elements are zeros , the components are null ., 0.856610119342804\n"
          ],
          "name": "stdout"
        },
        {
          "output_type": "execute_result",
          "data": {
            "text/plain": [
              "('Because diagonal elements are zeros , the components are null . ',\n",
              " 0.507723331451416)"
            ]
          },
          "metadata": {
            "tags": []
          },
          "execution_count": 38
        }
      ]
    },
    {
      "cell_type": "code",
      "metadata": {
        "colab": {
          "base_uri": "https://localhost:8080/"
        },
        "id": "5dzZXDJCU8_0",
        "outputId": "994f7c56-f0c1-4121-cb40-991e4e7e39e4"
      },
      "source": [
        "driver([\"Because of diagonal elements are zeros , the components are null .\"])"
      ],
      "execution_count": null,
      "outputs": [
        {
          "output_type": "stream",
          "text": [
            "Original sentence: Because of diagonal elements are zeros , the components are null .\n",
            "Original score: 0.856610119342804\n",
            "Addition:\n",
            "[('Because diagonal elements are zeros , the components are null . ', 0.507723331451416), ('Because of diagonal elements are , the components are null . ', 0.8308606743812561), ('Because of elements are zeros , the components are null . ', 0.8769802451133728)]\n",
            "Substitution:\n",
            "[('Because  the diagonal elements are zeros , the components are null . ', 0.5783601999282837), ('Because of diagonal elements are  null , the components are null . ', 0.8797251582145691), ('Because of  the elements are zeros , the components are null . ', 0.6306759715080261)]\n",
            "Deletion:\n",
            "[('Because of  the diagonal elements are zeros , the components are null . ', 0.6936379671096802), ('Because  all of diagonal elements are zeros , the components are null . ', 0.8822611570358276), ('Because of diagonal elements are zeros  and , the components are null . ', 0.8970226645469666), ('Because of diagonal elements are  all zeros , the components are null . ', 0.8980777859687805), ('Because of diagonal  the elements are zeros , the components are null . ', 0.7467615008354187), ('Because of  the diagonal elements are zeros , the components are null . ', 0.6936379671096802)]\n",
            "--------------------------------------------------------------------------------------------------------------------------------------------------------------------------------------------------------------------------------------------------------------------------------------------------------------------------------------------------------------------------------------------------------------------------------------------------------------------------------------------------------------------------------------------------------------------------------------------------------------------------------------------------------------------------------------------------------------------------------------------------------------------------------------------------------------------------------\n"
          ],
          "name": "stdout"
        }
      ]
    },
    {
      "cell_type": "code",
      "metadata": {
        "colab": {
          "base_uri": "https://localhost:8080/"
        },
        "id": "HvvxUS8q9or9",
        "outputId": "fbe92977-907b-4ea3-bd5f-3454a7059f90"
      },
      "source": [
        "get_best([\"These are a read and write operation times .\"])"
      ],
      "execution_count": null,
      "outputs": [
        {
          "output_type": "stream",
          "text": [
            "Original sentence: These are a read and write operation times ., 0.9724825024604797\n"
          ],
          "name": "stdout"
        },
        {
          "output_type": "execute_result",
          "data": {
            "text/plain": [
              "('These are a read and write operation  at times . ', 0.528466522693634)"
            ]
          },
          "metadata": {
            "tags": []
          },
          "execution_count": 39
        }
      ]
    },
    {
      "cell_type": "code",
      "metadata": {
        "colab": {
          "base_uri": "https://localhost:8080/"
        },
        "id": "QaYc3svq6XvN",
        "outputId": "203d9717-4947-4195-f9e3-63d973a9fccd"
      },
      "source": [
        "driver([\"These are a read and write operation times .\"])"
      ],
      "execution_count": null,
      "outputs": [
        {
          "output_type": "stream",
          "text": [
            "Original sentence: These are a read and write operation times .\n",
            "Original score: 0.9724825024604797\n",
            "Addition:\n",
            "[('These are a and write operation times . ', 0.9170173406600952), ('These are a read and operation times . ', 0.9514626860618591), ('These are a read and write times . ', 0.9260262846946716)]\n",
            "Substitution:\n",
            "[('These are a  read and write operation times . ', 0.9724825024604797), ('These are a read and  write operation times . ', 0.9724825024604797), ('These are a read and write  many times . ', 0.9441121220588684)]\n",
            "Deletion:\n",
            "[('These are a read  operation and write operation times . ', 0.9290616512298584), ('These are a  typical read and write operation times . ', 0.9499345421791077), ('These are a read and write  sequential operation times . ', 0.9189997911453247), ('These are a read and  a write operation times . ', 0.9715926051139832), ('These are a read and write operation  at times . ', 0.528466522693634), ('These are a read and write  sequential operation times . ', 0.9189997911453247)]\n",
            "--------------------------------------------------------------------------------------------------------------------------------------------------------------------------------------------------------------------------------------------------------------------------------------------------------------------------------------------------------------------------------------------------------------------------------------------------------------------------------------------------------------------------------------------------------------------------------------------------------------------------------------------------------------------------------------------------------------------------------------------------------------------------------------------------------------------------------\n"
          ],
          "name": "stdout"
        }
      ]
    },
    {
      "cell_type": "code",
      "metadata": {
        "colab": {
          "base_uri": "https://localhost:8080/"
        },
        "id": "WiY8CgfV719W",
        "outputId": "3c8ce0a1-dc20-45e3-e334-139ec7abd88d"
      },
      "source": [
        "get_best([\"You have to make a decision based on 0 or 1 , oh okay .\"])"
      ],
      "execution_count": null,
      "outputs": [
        {
          "output_type": "stream",
          "text": [
            "Original sentence: You have to make a decision based on 0 or 1 , oh okay ., 0.4426235556602478\n"
          ],
          "name": "stdout"
        },
        {
          "output_type": "execute_result",
          "data": {
            "text/plain": [
              "('You have to make a decision based on 0 or 1 , okay . ', 0.22449840605258942)"
            ]
          },
          "metadata": {
            "tags": []
          },
          "execution_count": 31
        }
      ]
    },
    {
      "cell_type": "code",
      "metadata": {
        "colab": {
          "base_uri": "https://localhost:8080/"
        },
        "id": "e3_vWX8U7AmE",
        "outputId": "2dc6f19a-81bc-4e1c-a575-1c00e44f447f"
      },
      "source": [
        "driver([\"You have to make a decision based on its belief , 0 or 1 oh okay .\"])"
      ],
      "execution_count": null,
      "outputs": [
        {
          "output_type": "stream",
          "text": [
            "Original sentence: You have to make a decision based on its belief , 0 or 1 oh okay .\n",
            "Original score: 0.5556721091270447\n",
            "Addition:\n",
            "[('You have to make a decision based on its belief 0 or 1 oh okay . ', 0.8931667804718018), ('You have to make a decision based on its belief , 0 or 1 okay . ', 0.7104674577713013), ('You have to make a decision based on belief , 0 or 1 oh okay . ', 0.5169863700866699)]\n",
            "Substitution:\n",
            "[('You have to make a decision based on its belief . 0 or 1 oh okay . ', 0.39965569972991943), ('You have to make a decision based on its belief , 0 or 1  is okay . ', 0.721209704875946), ('You have to make a decision based on  your belief , 0 or 1 oh okay . ', 0.5393906831741333)]\n",
            "Deletion:\n",
            "[('You have to make a decision based on its belief ,  so 0 or 1 oh okay . ', 0.5589056015014648), ('You have to make a decision based on its belief  value , 0 or 1 oh okay . ', 0.6365249156951904), ('You have to make a decision based on its belief , 0 or 1 oh  well okay . ', 0.7708204984664917), ('You have to make a decision based on its belief , 0 or 1 , oh okay . ', 0.5346429944038391), ('You have to make a decision based on its  own belief , 0 or 1 oh okay . ', 0.8614712953567505), ('You have to make a decision based on  whether its belief , 0 or 1 oh okay . ', 0.6046563982963562)]\n",
            "--------------------------------------------------------------------------------------------------------------------------------------------------------------------------------------------------------------------------------------------------------------------------------------------------------------------------------------------------------------------------------------------------------------------------------------------------------------------------------------------------------------------------------------------------------------------------------------------------------------------------------------------------------------------------------------------------------------------------------------------------------------------------------------------------------------------------------\n"
          ],
          "name": "stdout"
        }
      ]
    },
    {
      "cell_type": "code",
      "metadata": {
        "colab": {
          "base_uri": "https://localhost:8080/"
        },
        "id": "exJH83498iiU",
        "outputId": "f1418818-cc43-470c-84da-0a4cd89f205d"
      },
      "source": [
        "get_best([\"You're creating the image and then sticking it on these metadata feeds so it shows up good on amazon on shopify .\"])"
      ],
      "execution_count": null,
      "outputs": [
        {
          "output_type": "stream",
          "text": [
            "Original sentence: You're creating the image and then sticking it on these metadata feeds so it shows up good on amazon on shopify ., 0.7682225704193115\n"
          ],
          "name": "stdout"
        },
        {
          "output_type": "execute_result",
          "data": {
            "text/plain": [
              "(\"You're creating the image and then sticking it on these metadata feeds so it shows up on amazon on shopify . \",\n",
              " 0.4910700023174286)"
            ]
          },
          "metadata": {
            "tags": []
          },
          "execution_count": 36
        }
      ]
    },
    {
      "cell_type": "code",
      "metadata": {
        "colab": {
          "base_uri": "https://localhost:8080/"
        },
        "id": "KvDuauD076bJ",
        "outputId": "0a996d0f-66bf-421f-a5ba-6f27880126a8"
      },
      "source": [
        "driver([\"You're creating the image and then sticking it on these metadata feeds so it shows up good on amazon on shopify .\"])"
      ],
      "execution_count": null,
      "outputs": [
        {
          "output_type": "stream",
          "text": [
            "Original sentence: You're creating the image and then sticking it on these metadata feeds so it shows up good on amazon on shopify .\n",
            "Original score: 0.7682225704193115\n",
            "Addition:\n",
            "[(\"You're creating the image and then sticking it on these metadata feeds so it shows up on amazon on shopify . \", 0.4910700023174286), (\"You're creating the image and then sticking it on these metadata feeds so it shows up good on on shopify . \", 0.6988755464553833), (\"You're creating the image and then sticking it on these metadata feeds so it shows up good on amazon on . \", 0.888641893863678), (\"You're the image and then sticking it on these metadata feeds so it shows up good on amazon on shopify . \", 0.8674836158752441)]\n",
            "Substitution:\n",
            "[(\"You're creating the image and then sticking it on these metadata feeds so it shows up  both on amazon on shopify . \", 0.9275521039962769), (\"You're creating the image and then sticking it on these metadata feeds so it shows up good on  display on shopify . \", 0.7672070264816284), (\"You're creating the image and then sticking it on these metadata feeds so it shows up good on amazon on  google . \", 0.7599522471427917), (\"You're  downloading the image and then sticking it on these metadata feeds so it shows up good on amazon on shopify . \", 0.7434490919113159)]\n",
            "Deletion:\n",
            "[(\"You're creating the image and then sticking it on these metadata feeds so it shows up good  enough on amazon on shopify . \", 0.6793598532676697), (\"You're creating the image and then sticking it on these metadata feeds so it shows up  for good on amazon on shopify . \", 0.5790683031082153), (\"You're creating the image and then sticking it on these metadata feeds so it shows up good on amazon  and on shopify . \", 0.8270084261894226), (\"You're creating the image and then sticking it on these metadata feeds so it shows up good on  your amazon on shopify . \", 0.7439654469490051), (\"You're creating the image and then sticking it on these metadata feeds so it shows up good on amazon on shopify . . \", 0.7862325310707092), (\"You're creating the image and then sticking it on these metadata feeds so it shows up good on amazon on  your shopify . \", 0.8255327939987183), (\"You're creating  just the image and then sticking it on these metadata feeds so it shows up good on amazon on shopify . \", 0.7498395442962646), (\"You're  just creating the image and then sticking it on these metadata feeds so it shows up good on amazon on shopify . \", 0.7491294145584106)]\n",
            "--------------------------------------------------------------------------------------------------------------------------------------------------------------------------------------------------------------------------------------------------------------------------------------------------------------------------------------------------------------------------------------------------------------------------------------------------------------------------------------------------------------------------------------------------------------------------------------------------------------------------------------------------------------------------------------------------------------------------------------------------------------------------------------------------------------------------------\n"
          ],
          "name": "stdout"
        }
      ]
    },
    {
      "cell_type": "code",
      "metadata": {
        "colab": {
          "base_uri": "https://localhost:8080/"
        },
        "id": "0OO1bvaj84cF",
        "outputId": "311ce54a-7352-4201-84c7-87742a18bf04"
      },
      "source": [
        "get_best([\"You're creating the image and then sticking it on these metadata feeds so it shows up good on amazon and shopify .\"])"
      ],
      "execution_count": null,
      "outputs": [
        {
          "output_type": "stream",
          "text": [
            "Original sentence: You're creating the image and then sticking it on these metadata feeds so it shows up good on amazon and shopify ., 0.8271904587745667\n"
          ],
          "name": "stdout"
        },
        {
          "output_type": "execute_result",
          "data": {
            "text/plain": [
              "(\"You're creating the image and then sticking it on these metadata feeds so it shows up good on  google and shopify . \",\n",
              " 0.7844880223274231)"
            ]
          },
          "metadata": {
            "tags": []
          },
          "execution_count": 40
        }
      ]
    },
    {
      "cell_type": "code",
      "metadata": {
        "colab": {
          "base_uri": "https://localhost:8080/"
        },
        "id": "wd70le-B9Hr7",
        "outputId": "9e5c259e-40d4-4495-e05d-46305bdf624e"
      },
      "source": [
        "get_best([\"A perfectly good mine sentence is not hard to come up with .\"])"
      ],
      "execution_count": null,
      "outputs": [
        {
          "output_type": "stream",
          "text": [
            "Original sentence: A perfectly good mine sentence is not hard to come up with ., 0.9786275029182434\n"
          ],
          "name": "stdout"
        },
        {
          "output_type": "execute_result",
          "data": {
            "text/plain": [
              "('A perfectly good sentence is not hard to come up with . ',\n",
              " 0.0014121211133897305)"
            ]
          },
          "metadata": {
            "tags": []
          },
          "execution_count": 47
        }
      ]
    },
    {
      "cell_type": "code",
      "metadata": {
        "colab": {
          "base_uri": "https://localhost:8080/"
        },
        "id": "EI0-iMpgFM5Q",
        "outputId": "307f774c-59b2-4dbb-9bdf-655947ddc5e0"
      },
      "source": [
        "driver([\"A perfectly good word sentence is not hard to come up with .\"])"
      ],
      "execution_count": null,
      "outputs": [
        {
          "output_type": "stream",
          "text": [
            "Original sentence: A perfectly good word sentence is not hard to come up with .\n",
            "Original score: 0.8227465748786926\n",
            "Addition:\n",
            "[('A perfectly good sentence is not hard to come up with . ', 0.0014121211133897305), ('A perfectly word sentence is not hard to come up with . ', 0.9813939332962036), ('A perfectly good word is not hard to come up with . ', 0.004702916368842125)]\n",
            "Substitution:\n",
            "[('A perfectly good  English sentence is not hard to come up with . ', 0.003849945031106472), ('A perfectly  three word sentence is not hard to come up with . ', 0.7256753444671631), ('A perfectly good word  that is not hard to come up with . ', 0.021979404613375664)]\n",
            "Deletion:\n",
            "[('A perfectly good word  or sentence is not hard to come up with . ', 0.001316220499575138), ('A perfectly good  one word sentence is not hard to come up with . ', 0.6849609613418579), ('A perfectly good  one word sentence is not hard to come up with . ', 0.6849609613418579), ('A perfectly  constructed good word sentence is not hard to come up with . ', 0.8018209338188171), ('A perfectly good word sentence  that is not hard to come up with . ', 0.7509624361991882), ('A perfectly good word  or sentence is not hard to come up with . ', 0.001316220499575138)]\n",
            "--------------------------------------------------------------------------------------------------------------------------------------------------------------------------------------------------------------------------------------------------------------------------------------------------------------------------------------------------------------------------------------------------------------------------------------------------------------------------------------------------------------------------------------------------------------------------------------------------------------------------------------------------------------------------------------------------------------------------------------------------------------------------------------------------------------------------------\n"
          ],
          "name": "stdout"
        }
      ]
    },
    {
      "cell_type": "code",
      "metadata": {
        "colab": {
          "base_uri": "https://localhost:8080/"
        },
        "id": "j-eCaYEUUMS1",
        "outputId": "ece1caa6-a84b-47c7-b91c-416804bd219e"
      },
      "source": [
        "model.handle_batch([\"A perfectly good word sentence is not hard to come up with .\".split()])"
      ],
      "execution_count": null,
      "outputs": [
        {
          "output_type": "execute_result",
          "data": {
            "text/plain": [
              "([[0.9993915557861328,\n",
              "   0.9976759552955627,\n",
              "   0.9925858378410339,\n",
              "   0.9478182792663574,\n",
              "   0.3237801194190979,\n",
              "   0.9791347980499268,\n",
              "   0.9995473027229309,\n",
              "   0.9987718462944031,\n",
              "   0.9995954632759094,\n",
              "   0.9999909400939941,\n",
              "   0.9997747540473938,\n",
              "   0.999744713306427,\n",
              "   0.9992377758026123,\n",
              "   0.998079776763916]],\n",
              " [[0, 0, 0, 0, 1, 0, 0, 0, 0, 0, 0, 0, 0, 0]],\n",
              " [0.8227465748786926])"
            ]
          },
          "metadata": {
            "tags": []
          },
          "execution_count": 79
        }
      ]
    },
    {
      "cell_type": "code",
      "metadata": {
        "colab": {
          "base_uri": "https://localhost:8080/"
        },
        "id": "csv6bC8fGTYy",
        "outputId": "3164db67-a04e-4e3c-deec-610809711948"
      },
      "source": [
        "get_best([\"You cannot count the number one of stars in the sky .\"])"
      ],
      "execution_count": null,
      "outputs": [
        {
          "output_type": "stream",
          "text": [
            "Original sentence: You cannot count the number one of stars in the sky ., 0.9175732731819153\n"
          ],
          "name": "stdout"
        },
        {
          "output_type": "execute_result",
          "data": {
            "text/plain": [
              "('You cannot count the number   of stars in the sky . ', 0.008997755125164986)"
            ]
          },
          "metadata": {
            "tags": []
          },
          "execution_count": 51
        }
      ]
    },
    {
      "cell_type": "code",
      "metadata": {
        "colab": {
          "base_uri": "https://localhost:8080/"
        },
        "id": "hb2Gy1g1UTSI",
        "outputId": "cd129619-698f-4d28-92bd-fbb3d4e1a7fd"
      },
      "source": [
        "model.handle_batch([\"You cannot count the number one of stars in the sky .\".split()])"
      ],
      "execution_count": null,
      "outputs": [
        {
          "output_type": "execute_result",
          "data": {
            "text/plain": [
              "([[0.9997448325157166,\n",
              "   0.9998155236244202,\n",
              "   0.9947867393493652,\n",
              "   0.9994344115257263,\n",
              "   0.9266901612281799,\n",
              "   0.9646723866462708,\n",
              "   0.8570123910903931,\n",
              "   0.886479377746582,\n",
              "   0.9958611130714417,\n",
              "   0.9999306201934814,\n",
              "   0.999940037727356,\n",
              "   0.9997171759605408,\n",
              "   0.99698406457901]],\n",
              " [[0, 0, 0, 0, 0, 0, 1, 0, 0, 0, 0, 0, 0]],\n",
              " [0.9175732731819153])"
            ]
          },
          "metadata": {
            "tags": []
          },
          "execution_count": 80
        }
      ]
    },
    {
      "cell_type": "code",
      "metadata": {
        "colab": {
          "base_uri": "https://localhost:8080/"
        },
        "id": "CxIc3byoGX_T",
        "outputId": "4bf2cf0c-0a76-4625-9a5e-fd6fc0f34b67"
      },
      "source": [
        "get_best([\"You cannot count the number of stars stuck in the sky .\"])"
      ],
      "execution_count": null,
      "outputs": [
        {
          "output_type": "stream",
          "text": [
            "Original sentence: You cannot count the number of stars stuck in the sky ., 0.06510264426469803\n"
          ],
          "name": "stdout"
        },
        {
          "output_type": "execute_result",
          "data": {
            "text/plain": [
              "('You cannot count the number of stars in the sky . ', 0.008997755125164986)"
            ]
          },
          "metadata": {
            "tags": []
          },
          "execution_count": 53
        }
      ]
    },
    {
      "cell_type": "code",
      "metadata": {
        "colab": {
          "base_uri": "https://localhost:8080/"
        },
        "id": "WXSHy5mPHrkr",
        "outputId": "805ec843-4486-42c5-f2ed-148545ba3c5d"
      },
      "source": [
        "get_best([\"You can't count the all number of stars in the sky .\"])"
      ],
      "execution_count": null,
      "outputs": [
        {
          "output_type": "stream",
          "text": [
            "Original sentence: You can't count the all number of stars in the sky ., 0.9386579990386963\n"
          ],
          "name": "stdout"
        },
        {
          "output_type": "execute_result",
          "data": {
            "text/plain": [
              "(\"You can't count the number of stars in the sky . \", 0.01278283167630434)"
            ]
          },
          "metadata": {
            "tags": []
          },
          "execution_count": 61
        }
      ]
    },
    {
      "cell_type": "code",
      "metadata": {
        "colab": {
          "base_uri": "https://localhost:8080/"
        },
        "id": "PB0x2GviGqZW",
        "outputId": "34ea7f62-bee6-4154-8cfc-b8e6d81ab4a3"
      },
      "source": [
        "get_best([\"Des and Troy are the names fire of my pets .\"])"
      ],
      "execution_count": null,
      "outputs": [
        {
          "output_type": "stream",
          "text": [
            "Original sentence: Des and Troy are the names fire of my pets ., 0.9639774560928345\n"
          ],
          "name": "stdout"
        },
        {
          "output_type": "execute_result",
          "data": {
            "text/plain": [
              "('Des and Troy are the names of my pets . ', 0.003129757009446621)"
            ]
          },
          "metadata": {
            "tags": []
          },
          "execution_count": 57
        }
      ]
    },
    {
      "cell_type": "code",
      "metadata": {
        "colab": {
          "base_uri": "https://localhost:8080/"
        },
        "id": "Mb7iJeiZG7A9",
        "outputId": "ffecb23e-f523-4c24-9f89-7f2849fb235d"
      },
      "source": [
        "driver([\"Des and Troy are the names dog of my pets .\"])"
      ],
      "execution_count": null,
      "outputs": [
        {
          "output_type": "stream",
          "text": [
            "Original sentence: Des and Troy are the names dog of my pets .\n",
            "Original score: 0.9755066633224487\n",
            "Addition:\n",
            "[('Des and Troy are the names dog my pets . ', 0.9293693900108337), ('Des and Troy are the dog of my pets . ', 0.8957498073577881), ('Des and Troy are the names dog of my . ', 0.9664055705070496)]\n",
            "Substitution:\n",
            "[('Des and Troy are the names dog  of my pets . ', 0.9755066633224487), ('Des and Troy are the  best dog of my pets . ', 0.8994035124778748), ('Des and Troy are the names dog of my  family . ', 0.9834161996841431)]\n",
            "Deletion:\n",
            "[('Des and Troy are the names dog of  all my pets . ', 0.9775081276893616), ('Des and Troy are the names dog  two of my pets . ', 0.9845609664916992), ('Des and Troy are the names  of dog of my pets . ', 0.9397597908973694), ('Des and Troy are the  real names dog of my pets . ', 0.9615486264228821), ('Des and Troy are the names dog of my pets . . ', 0.9766221642494202), ('Des and Troy are the names dog of my  two pets . ', 0.976362407207489)]\n",
            "--------------------------------------------------------------------------------------------------------------------------------------------------------------------------------------------------------------------------------------------------------------------------------------------------------------------------------------------------------------------------------------------------------------------------------------------------------------------------------------------------------------------------------------------------------------------------------------------------------------------------------------------------------------------------------------------------------------------------------------------------------------------------------------------------------------------------------\n"
          ],
          "name": "stdout"
        }
      ]
    },
    {
      "cell_type": "code",
      "metadata": {
        "colab": {
          "base_uri": "https://localhost:8080/"
        },
        "id": "KBHKuqLRUbRk",
        "outputId": "78047a71-ff9a-41a9-aead-712295e7877e"
      },
      "source": [
        "model.handle_batch([\"Des and Troy are the names dog of my pets .\".split()])"
      ],
      "execution_count": null,
      "outputs": [
        {
          "output_type": "execute_result",
          "data": {
            "text/plain": [
              "([[0.9797545075416565,\n",
              "   0.9984961748123169,\n",
              "   0.999744713306427,\n",
              "   0.9984315037727356,\n",
              "   0.9929258823394775,\n",
              "   0.9253250956535339,\n",
              "   0.8665928840637207,\n",
              "   0.9173587560653687,\n",
              "   0.6407230496406555,\n",
              "   0.9556306600570679,\n",
              "   0.9059197902679443,\n",
              "   0.9978405237197876]],\n",
              " [[0, 0, 0, 0, 0, 0, 0, 1, 0, 0, 0, 0]],\n",
              " [0.9755066633224487])"
            ]
          },
          "metadata": {
            "tags": []
          },
          "execution_count": 81
        }
      ]
    },
    {
      "cell_type": "code",
      "metadata": {
        "colab": {
          "base_uri": "https://localhost:8080/"
        },
        "id": "VfB3rDg9HK9l",
        "outputId": "911105f7-b3f4-4228-e1be-7c1d7be23148"
      },
      "source": [
        "get_best([\"I buy shoes and sneakers every other damn day !\"])"
      ],
      "execution_count": null,
      "outputs": [
        {
          "output_type": "stream",
          "text": [
            "Original sentence: I buy shoes and sneakers every other damn day !, 0.11492287367582321\n"
          ],
          "name": "stdout"
        },
        {
          "output_type": "execute_result",
          "data": {
            "text/plain": [
              "('I buy shoes and sneakers every other day ! ', 0.008237226866185665)"
            ]
          },
          "metadata": {
            "tags": []
          },
          "execution_count": 59
        }
      ]
    },
    {
      "cell_type": "code",
      "metadata": {
        "colab": {
          "base_uri": "https://localhost:8080/"
        },
        "id": "7o4zXPWdHcTy",
        "outputId": "0e464054-32af-41a9-e1c9-ec0ab294e29a"
      },
      "source": [
        "get_best([\"I buy shoes him and sneakers every other day !\"])"
      ],
      "execution_count": null,
      "outputs": [
        {
          "output_type": "stream",
          "text": [
            "Original sentence: I buy shoes him and sneakers every other day !, 0.9079687595367432\n"
          ],
          "name": "stdout"
        },
        {
          "output_type": "execute_result",
          "data": {
            "text/plain": [
              "('I buy shoes and sneakers every other day ! ', 0.008237226866185665)"
            ]
          },
          "metadata": {
            "tags": []
          },
          "execution_count": 63
        }
      ]
    },
    {
      "cell_type": "code",
      "metadata": {
        "colab": {
          "base_uri": "https://localhost:8080/"
        },
        "id": "zUQkTLw0IGZ5",
        "outputId": "29e3c887-ec52-480e-99b6-3d02c51b6267"
      },
      "source": [
        "driver([\"I buy shoes and sneakers feet every other day !\"])"
      ],
      "execution_count": null,
      "outputs": [
        {
          "output_type": "stream",
          "text": [
            "Original sentence: I buy shoes and sneakers feet every other day !\n",
            "Original score: 0.844481348991394\n",
            "Addition:\n",
            "[('I buy shoes and sneakers every other day ! ', 0.008237226866185665), ('I buy shoes and feet every other day ! ', 0.13250450789928436), ('I buy shoes sneakers feet every other day ! ', 0.9192432165145874)]\n",
            "Substitution:\n",
            "[('I buy shoes and sneakers  almost every other day ! ', 0.006117815617471933), ('I buy shoes and  wash feet every other day ! ', 0.6390203237533569), ('I buy shoes  for sneakers feet every other day ! ', 0.8282755017280579)]\n",
            "Deletion:\n",
            "[('I buy shoes and sneakers feet  size every other day ! ', 0.7187116146087646), ('I buy shoes and sneakers  for feet every other day ! ', 0.7279530763626099), ('I buy shoes and sneakers  for feet every other day ! ', 0.7279530763626099), ('I buy shoes and  wear sneakers feet every other day ! ', 0.8143393993377686), ('I buy shoes and  wear sneakers feet every other day ! ', 0.8143393993377686), ('I buy shoes  feet and sneakers feet every other day ! ', 0.8683654069900513)]\n",
            "--------------------------------------------------------------------------------------------------------------------------------------------------------------------------------------------------------------------------------------------------------------------------------------------------------------------------------------------------------------------------------------------------------------------------------------------------------------------------------------------------------------------------------------------------------------------------------------------------------------------------------------------------------------------------------------------------------------------------------------------------------------------------------------------------------------------------------\n"
          ],
          "name": "stdout"
        }
      ]
    },
    {
      "cell_type": "code",
      "metadata": {
        "colab": {
          "base_uri": "https://localhost:8080/"
        },
        "id": "jP4qQmTFIdXu",
        "outputId": "903bc62d-75de-4f0f-a63c-537784629ca8"
      },
      "source": [
        "model.handle_batch([\"I buy shoes and sneakers feet every other day !\".split()])"
      ],
      "execution_count": null,
      "outputs": [
        {
          "output_type": "execute_result",
          "data": {
            "text/plain": [
              "([[0.9991279244422913,\n",
              "   0.9982174038887024,\n",
              "   0.9773649573326111,\n",
              "   0.9941845536231995,\n",
              "   0.9742037057876587,\n",
              "   0.9042534232139587,\n",
              "   0.7993203997612,\n",
              "   0.9958051443099976,\n",
              "   0.9946523904800415,\n",
              "   0.9984087347984314,\n",
              "   0.9959859251976013]],\n",
              " [[0, 0, 0, 0, 0, 0, 1, 0, 0, 0, 0]],\n",
              " [0.844481348991394])"
            ]
          },
          "metadata": {
            "tags": []
          },
          "execution_count": 78
        }
      ]
    },
    {
      "cell_type": "code",
      "metadata": {
        "colab": {
          "base_uri": "https://localhost:8080/"
        },
        "id": "1CkSmkjULNjo",
        "outputId": "e121a853-4f8a-4761-9e54-04b6105622ca"
      },
      "source": [
        "model.handle_batch([\"I buy shoes and sneakers every other damn day !\".split()])"
      ],
      "execution_count": null,
      "outputs": [
        {
          "output_type": "execute_result",
          "data": {
            "text/plain": [
              "([[0.9996254444122314,\n",
              "   0.9991593360900879,\n",
              "   0.9982988238334656,\n",
              "   0.9996269941329956,\n",
              "   0.9999001026153564,\n",
              "   0.997752845287323,\n",
              "   0.9965100884437561,\n",
              "   0.987461268901825,\n",
              "   0.9261882305145264,\n",
              "   0.9989066123962402,\n",
              "   0.9976708292961121]],\n",
              " [[0, 0, 0, 0, 0, 0, 0, 0, 0, 0, 0]],\n",
              " [0.11492287367582321])"
            ]
          },
          "metadata": {
            "tags": []
          },
          "execution_count": 82
        }
      ]
    }
  ]
}